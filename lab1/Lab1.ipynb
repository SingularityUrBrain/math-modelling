{
 "cells": [
  {
   "cell_type": "markdown",
   "metadata": {},
   "source": [
    "# Построение и исследование характеристик датчиков базовых СВ"
   ]
  },
  {
   "cell_type": "code",
   "execution_count": 1,
   "metadata": {},
   "outputs": [],
   "source": [
    "import warnings\n",
    "warnings.filterwarnings(\"ignore\")\n",
    "\n",
    "import numpy as np\n",
    "from scipy.stats import chisquare, kstest\n",
    "import matplotlib.pyplot as plt\n",
    "\n",
    "%matplotlib inline"
   ]
  },
  {
   "cell_type": "code",
   "execution_count": 2,
   "metadata": {},
   "outputs": [],
   "source": [
    "def corr_test_plot(x, y):\n",
    "    n = len(x)\n",
    "    _ = plt.figure(figsize=(10, 8))\n",
    "    plt.plot([0, n], [0, 0], lw=2, c='r')\n",
    "    sample_size = np.arange(2, n)\n",
    "    coeffs = [np.corrcoef(x[:s], y[:s])[0][1] for s in sample_size]\n",
    "    plt.scatter(sample_size, coeffs, c='b', alpha=0.5)\n",
    "    plt.title('Linear independence test', size=16, pad=8)\n",
    "    plt.xlabel('Sample size')\n",
    "    plt.ylabel('Pearson correlation coefficient')\n",
    "    plt.show()\n",
    "    \n",
    "def rfreq_plot(x, k):\n",
    "    n = len(x)\n",
    "    _ = plt.figure(figsize=(8, 6))\n",
    "    plt.plot([0, 1], [1/k, 1/k], c='b')\n",
    "    plt.hist(x, bins=k, edgecolor='k', weights=[1/n]*n, color='b', alpha=0.3)\n",
    "    plt.title('Relative frequency histogram')\n",
    "    plt.xlabel('x')\n",
    "    plt.ylabel('Relative frequency (ni / n)')\n",
    "    plt.show()"
   ]
  },
  {
   "cell_type": "markdown",
   "metadata": {},
   "source": [
    "## 1. Метод середины квадрата"
   ]
  },
  {
   "cell_type": "code",
   "execution_count": 3,
   "metadata": {},
   "outputs": [],
   "source": [
    "class MiddleSquareRandom:\n",
    "    \"\"\"Pseudo random generator with the middle square method.\n",
    "    \"\"\"\n",
    "    \n",
    "    def __init__(self, seed):\n",
    "        self.seed(seed)\n",
    "        \n",
    "    def seed(self, n):\n",
    "        m = len(str(abs(n)))\n",
    "        if m % 2:\n",
    "            raise ValueError(\"n must have even number of digits\")\n",
    "        self._norm = int('1'.ljust(m+1, '0'))\n",
    "        self._state = n\n",
    "        self._fill = 2*m\n",
    "        self._leftn = m // 2\n",
    "        self._rightn = 3*self._leftn\n",
    "        \n",
    "    def rand(self, size=None):\n",
    "        if size is None:\n",
    "            return self._random()\n",
    "        else:\n",
    "            return [self._random() for _ in range(size)]\n",
    "    \n",
    "    def _random(self):\n",
    "        self._state = int(str(self._state**2).zfill(self._fill)[self._leftn:self._rightn])\n",
    "        return self._state / self._norm"
   ]
  },
  {
   "cell_type": "code",
   "execution_count": 4,
   "metadata": {},
   "outputs": [],
   "source": [
    "ms_random = MiddleSquareRandom(1994)"
   ]
  },
  {
   "cell_type": "code",
   "execution_count": 5,
   "metadata": {},
   "outputs": [
    {
     "data": {
      "text/plain": [
       "[0.976, 0.2576, 0.6357, 0.4114, 0.9249, 0.544, 0.5936, 0.236, 0.5696, 0.4444]"
      ]
     },
     "execution_count": 5,
     "metadata": {},
     "output_type": "execute_result"
    }
   ],
   "source": [
    "ms_random.rand(10)"
   ]
  },
  {
   "cell_type": "markdown",
   "metadata": {},
   "source": [
    "### Тестирование равномерности"
   ]
  },
  {
   "cell_type": "code",
   "execution_count": 6,
   "metadata": {},
   "outputs": [],
   "source": [
    "ms_random.seed(9828198741)"
   ]
  },
  {
   "cell_type": "code",
   "execution_count": 7,
   "metadata": {},
   "outputs": [
    {
     "data": {
      "image/png": "[encoded data removed]",
      "text/plain": [
       "<Figure size 576x432 with 1 Axes>"
      ]
     },
     "metadata": {
      "needs_background": "light"
     },
     "output_type": "display_data"
    }
   ],
   "source": [
    "rfreq_plot(ms_random.rand(100), 10)"
   ]
  },
  {
   "cell_type": "code",
   "execution_count": 9,
   "metadata": {},
   "outputs": [
    {
     "data": {
      "image/png": "[encoded data removed]",
      "text/plain": [
       "<Figure size 576x432 with 1 Axes>"
      ]
     },
     "metadata": {
      "needs_background": "light"
     },
     "output_type": "display_data"
    }
   ],
   "source": [
    "rfreq_plot(ms_random.rand(10000), 10)"
   ]
  },
  {
   "cell_type": "code",
   "execution_count": 10,
   "metadata": {},
   "outputs": [
    {
     "name": "stdout",
     "output_type": "stream",
     "text": [
      "sample_mean = 0.50154546300846, sample_var = 0.08268279717245823\n"
     ]
    }
   ],
   "source": [
    "ms_sample = ms_random.rand(10000)\n",
    "print(f'sample_mean = {np.mean(ms_sample)}, sample_var = {np.var(ms_sample)}')"
   ]
  },
  {
   "cell_type": "markdown",
   "metadata": {},
   "source": [
    "### chi-square and kolmogorov-smirnov test"
   ]
  },
  {
   "cell_type": "code",
   "execution_count": 11,
   "metadata": {},
   "outputs": [],
   "source": [
    "ms_sample = ms_random.rand(1000)"
   ]
  },
  {
   "cell_type": "code",
   "execution_count": 12,
   "metadata": {},
   "outputs": [
    {
     "data": {
      "text/plain": [
       "Power_divergenceResult(statistic=7.88, pvalue=0.5462832105527575)"
      ]
     },
     "execution_count": 12,
     "metadata": {},
     "output_type": "execute_result"
    }
   ],
   "source": [
    "chisquare(np.histogram(ms_sample)[0])"
   ]
  },
  {
   "cell_type": "code",
   "execution_count": 13,
   "metadata": {},
   "outputs": [
    {
     "data": {
      "text/plain": [
       "KstestResult(statistic=0.03303771, pvalue=0.22048891977724852)"
      ]
     },
     "execution_count": 13,
     "metadata": {},
     "output_type": "execute_result"
    }
   ],
   "source": [
    "kstest(ms_sample, 'uniform')"
   ]
  },
  {
   "cell_type": "markdown",
   "metadata": {},
   "source": [
    "Tests don't reject the hypothesis that the sample came from the uniform distribution"
   ]
  },
  {
   "cell_type": "markdown",
   "metadata": {},
   "source": [
    "### Тестирование линейной независимости"
   ]
  },
  {
   "cell_type": "code",
   "execution_count": 26,
   "metadata": {},
   "outputs": [],
   "source": [
    "ms_random.seed(9828187921)"
   ]
  },
  {
   "cell_type": "code",
   "execution_count": 27,
   "metadata": {},
   "outputs": [],
   "source": [
    "n = 10000\n",
    "ms_z1 = ms_random.rand(n)\n",
    "ms_z2 = ms_random.rand(n)"
   ]
  },
  {
   "cell_type": "code",
   "execution_count": 28,
   "metadata": {
    "scrolled": false
   },
   "outputs": [
    {
     "data": {
      "image/png": "[encoded data removed]",
      "text/plain": [
       "<Figure size 720x576 with 1 Axes>"
      ]
     },
     "metadata": {
      "needs_background": "light"
     },
     "output_type": "display_data"
    }
   ],
   "source": [
    "corr_test_plot(ms_z1, ms_z2)"
   ]
  },
  {
   "cell_type": "markdown",
   "metadata": {},
   "source": [
    "## 2. Мультипликативный конгруэнтный метод"
   ]
  },
  {
   "cell_type": "code",
   "execution_count": 229,
   "metadata": {},
   "outputs": [],
   "source": [
    "class MCG:\n",
    "    \"\"\"Multiplicative congruential generator.\n",
    "    \"\"\"\n",
    "    \n",
    "    def __init__(self, seed, k=279470273, m=0xfffffffb):\n",
    "        self.seed(seed, k, m)\n",
    "        \n",
    "    def seed(self, seed, k=279470273, m=0xfffffffb):\n",
    "        self._k = k\n",
    "        self._mod = m\n",
    "        self._state = seed\n",
    "        pass\n",
    "        \n",
    "    def rand(self, n=None):\n",
    "        if n is None:\n",
    "            return self._random()\n",
    "        else:\n",
    "            return [self._random() for _ in range(n)]\n",
    "    \n",
    "    def _random(self):\n",
    "        self._state = (self._k*self._state) % self._mod\n",
    "        return self._state / self._mod"
   ]
  },
  {
   "cell_type": "code",
   "execution_count": 267,
   "metadata": {},
   "outputs": [],
   "source": [
    "mcg_random = MCG(89739337)"
   ]
  },
  {
   "cell_type": "markdown",
   "metadata": {},
   "source": [
    "### Тестирование равномерности"
   ]
  },
  {
   "cell_type": "code",
   "execution_count": 268,
   "metadata": {},
   "outputs": [
    {
     "data": {
      "image/png": "[encoded data removed]",
      "text/plain": [
       "<Figure size 576x432 with 1 Axes>"
      ]
     },
     "metadata": {
      "needs_background": "light"
     },
     "output_type": "display_data"
    }
   ],
   "source": [
    "rfreq_plot(mcg_random.rand(100), 10)"
   ]
  },
  {
   "cell_type": "code",
   "execution_count": 269,
   "metadata": {},
   "outputs": [
    {
     "data": {
      "image/png": "[encoded data removed]",
      "text/plain": [
       "<Figure size 576x432 with 1 Axes>"
      ]
     },
     "metadata": {
      "needs_background": "light"
     },
     "output_type": "display_data"
    }
   ],
   "source": [
    "rfreq_plot(mcg_random.rand(10000), 10)"
   ]
  },
  {
   "cell_type": "code",
   "execution_count": 270,
   "metadata": {},
   "outputs": [
    {
     "name": "stdout",
     "output_type": "stream",
     "text": [
      "sample_mean = 0.5018399474132805, sample_var = 0.08375838866302858\n"
     ]
    }
   ],
   "source": [
    "mcg_sample = mcg_random.rand(10000)\n",
    "print(f'sample_mean = {np.mean(mcg_sample)}, sample_var = {np.var(mcg_sample)}')"
   ]
  },
  {
   "cell_type": "markdown",
   "metadata": {},
   "source": [
    "### chi-square and kolmogorov-smirnov test"
   ]
  },
  {
   "cell_type": "code",
   "execution_count": 271,
   "metadata": {},
   "outputs": [],
   "source": [
    "n = 1000\n",
    "mcg_sample = mcg_random.rand(n)"
   ]
  },
  {
   "cell_type": "code",
   "execution_count": 272,
   "metadata": {},
   "outputs": [
    {
     "data": {
      "text/plain": [
       "Power_divergenceResult(statistic=4.28, pvalue=0.8920362631718506)"
      ]
     },
     "execution_count": 272,
     "metadata": {},
     "output_type": "execute_result"
    }
   ],
   "source": [
    "chisquare(np.histogram(mcg_sample)[0])"
   ]
  },
  {
   "cell_type": "code",
   "execution_count": 273,
   "metadata": {},
   "outputs": [
    {
     "data": {
      "text/plain": [
       "KstestResult(statistic=0.02119166289338803, pvalue=0.7601939157578856)"
      ]
     },
     "execution_count": 273,
     "metadata": {},
     "output_type": "execute_result"
    }
   ],
   "source": [
    "kstest(mcg_sample, 'uniform')"
   ]
  },
  {
   "cell_type": "markdown",
   "metadata": {},
   "source": [
    "Tests don't reject the hypothesis that the sample came from the uniform distribution"
   ]
  },
  {
   "cell_type": "markdown",
   "metadata": {},
   "source": [
    "### Тестирование линейной независимости"
   ]
  },
  {
   "cell_type": "code",
   "execution_count": 274,
   "metadata": {},
   "outputs": [],
   "source": [
    "n = 10000\n",
    "mcg_z1 = mcg_random.rand(n)\n",
    "mcg_z2 = mcg_random.rand(n)"
   ]
  },
  {
   "cell_type": "code",
   "execution_count": 275,
   "metadata": {},
   "outputs": [
    {
     "data": {
      "image/png": "[encoded data removed]",
      "text/plain": [
       "<Figure size 720x576 with 1 Axes>"
      ]
     },
     "metadata": {
      "needs_background": "light"
     },
     "output_type": "display_data"
    }
   ],
   "source": [
    "corr_test_plot(mcg_z1, mcg_z2)"
   ]
  },
  {
   "cell_type": "code",
   "execution_count": null,
   "metadata": {},
   "outputs": [],
   "source": []
  }
 ],
 "metadata": {
  "kernelspec": {
   "display_name": "Python 3",
   "language": "python",
   "name": "python3"
  },
  "language_info": {
   "codemirror_mode": {
    "name": "ipython",
    "version": 3
   },
   "file_extension": ".py",
   "mimetype": "text/x-python",
   "name": "python",
   "nbconvert_exporter": "python",
   "pygments_lexer": "ipython3",
   "version": "3.7.6"
  }
 },
 "nbformat": 4,
 "nbformat_minor": 4
}
